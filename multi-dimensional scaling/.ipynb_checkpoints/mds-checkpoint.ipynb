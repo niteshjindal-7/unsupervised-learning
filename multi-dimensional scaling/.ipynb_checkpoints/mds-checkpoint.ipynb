{
 "cells": [
  {
   "cell_type": "markdown",
   "id": "7d29d001",
   "metadata": {},
   "source": [
    "# MULTI DIMENSIONAL SCALING (MDS)- \n",
    "<br>\n",
    "OBJECTIVE FUNCTION FOR MULTI DIMENSIONAL SCALING (MDS)\n",
    "<br>\n",
    "<br>\n",
    "The objective function for computing the mean of the numbers is, SSE ( Sum of Squared Error):\n",
    "$J\\left(m\\right)=\\sum_{i=1}^{N}\\left(m-x_i\\right)^2$\n",
    "<br>\n",
    "\n",
    "The objective function for Principal Component Analysis (PCA) is to maximise the variance in the projected space:<br><br>\n",
    "$J\\left(\\bar{\\omega}\\right)\\ \n",
    "<br>\n",
    "=\\ \\frac{1}{N}\\sum_{n=1}^{N}\\left(\\bar{\\omega}.x^{\\left(n\\right)}\\ -\\ \\bar{\\omega}{.\\mu}_o\\right)^2$\n",
    "<br>\n",
    "= $ \\ \\frac{1}{N}\\sum_{n=1}^{N}{{{{\\bar{\\omega}}^T(x}^{\\left(n\\right)}\\ -\\ \\mu_o)(x}^{\\left(n\\right)}\\ -\\ \\mu_o)}^T\\bar{\\omega}$\n",
    "<br>\n",
    "= ${\\bar{\\omega}}^T\\ [\\ \\frac{1}{N}\\sum_{n=1}^{N}{{{(x}^{\\left(n\\right)}\\ -\\ \\mu_o)(x}^{\\left(n\\right)}\\ -\\ \\mu_o)}^T] ω$\n",
    "<br>\n",
    "[1$*$D vector]\t         [D$*$D matrix] \t [D$*$1 vector]\t\n",
    "<br>\n",
    "where $\\bar{\\omega}$ is a D$*$1 vector,  $x_i$ is a D$*$1 vector, ${.\\mu}_o$ is a D$*$1 vector.\n",
    "<br>\n",
    "<br>\n",
    "Sometimes, the data is not multivariate data, and it is in the pair-wise distance form. [Multi dimensional scaling](https://en.wikipedia.org/wiki/Multidimensional_scaling) is a means of visualizing the level of similarity of individual cases of a dataset.\n",
    "<mds1>\n",
    "<br>\n",
    "<br>\n",
    "The objective of MDS is to minimize the pair-wise distance (for all pairs of i and j) in the projected space –\n",
    "<br>\n",
    "$\\sum_{i<j}\\left(d_{ij}-\\delta_{ij}\\right)^2$  = $\\sum_{i<j}\\left(d_{ij}-||x_i-x_j||\\right)^2$\n",
    "<br><br>\n",
    "Such methods falls under the category of proximity preserving methods as they preserve the proximity in the projected space \n",
    "<br>\n",
    "where –\n",
    "<br>\n",
    " $d_{ij}$ = the pairwise similarity (distance between point i and point j in the original space), which is given to us, and $x_i$ , $x_j$ are the parameters to calculate.\n"
   ]
  }
 ],
 "metadata": {
  "kernelspec": {
   "display_name": "Python 3 (ipykernel)",
   "language": "python",
   "name": "python3"
  },
  "language_info": {
   "codemirror_mode": {
    "name": "ipython",
    "version": 3
   },
   "file_extension": ".py",
   "mimetype": "text/x-python",
   "name": "python",
   "nbconvert_exporter": "python",
   "pygments_lexer": "ipython3",
   "version": "3.7.0"
  }
 },
 "nbformat": 4,
 "nbformat_minor": 5
}

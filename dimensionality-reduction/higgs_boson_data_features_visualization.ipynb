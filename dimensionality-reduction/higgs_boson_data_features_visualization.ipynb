{
 "cells": [
  {
   "cell_type": "markdown",
   "id": "2961566e",
   "metadata": {},
   "source": [
    "[![Open In Colab](https://colab.research.google.com/assets/colab-badge.svg)](https://colab.research.google.com/github/niteshjindal170988/unsupervised-learning/blob/main/dimensionality-reduction/principal_component_analysis_digit_recognizer.ipynb)"
   ]
  },
  {
   "cell_type": "markdown",
   "id": "ca488803",
   "metadata": {},
   "source": [
    "# Imports "
   ]
  },
  {
   "cell_type": "code",
   "execution_count": null,
   "id": "62f74c0c",
   "metadata": {},
   "outputs": [],
   "source": [
    "import pandas as pd\n",
    "import numpy as np\n",
    "import warnings\n",
    "import matplotlib.pyplot as plt"
   ]
  },
  {
   "cell_type": "markdown",
   "id": "f2584ba6",
   "metadata": {},
   "source": [
    "In this lesson, we will look through the  [Higgs Boson Dataset] (https://www.kaggle.com/competitions/higgs-boson/data) and visualize the features to understand the data distribution. "
   ]
  },
  {
   "cell_type": "markdown",
   "id": "aae6319a",
   "metadata": {},
   "source": [
    "# Download the Higgs Boson Dataset "
   ]
  },
  {
   "cell_type": "code",
   "execution_count": null,
   "id": "11b7441f",
   "metadata": {},
   "outputs": [],
   "source": [
    "!pip install --trusted-host pypi.org --trusted-host pypi.python.org --trusted-host files.pythonhosted.org gdown==4.2.0\n",
    "import gdown\n",
    "warnings.filterwarnings(\"ignore\")\n",
    "# Load Higgs Boson Data \n",
    "url = 'https://drive.google.com/uc?id=1Xu5mHENHoiyUbVG_9Z1bza-N0JfutjaP'\n",
    "output = 'training.csv'\n",
    "gdown.download(url, output, quiet=False, verify=False)"
   ]
  },
  {
   "cell_type": "markdown",
   "id": "30808b19",
   "metadata": {},
   "source": [
    "# Read the training.csv data\n",
    "<br>\n",
    "There are 250000 observations and 33 features in the data. There are two unique labels, viz. \"s\" and \"b\"."
   ]
  },
  {
   "cell_type": "code",
   "execution_count": null,
   "id": "587d3adc",
   "metadata": {},
   "outputs": [],
   "source": [
    "higgsboson = pd.read_csv(\"training.csv\")\n",
    "display(higgsboson.shape) # shape of higgs boson data\n",
    "display(higgsboson.head()) # top few rows of the higgs boson data\n",
    "display(higgsboson.Label.unique())"
   ]
  },
  {
   "cell_type": "markdown",
   "id": "bca77afd",
   "metadata": {},
   "source": [
    "# Histogram Plot of Higgs Boson Data Features excluding the Class Labels\n",
    "<br>\n",
    "we do not require \"EventId\" feature and \"Label\" features, therefore we will remove these features and plot rest other features from the dataset. "
   ]
  },
  {
   "cell_type": "code",
   "execution_count": null,
   "id": "f8a52618",
   "metadata": {},
   "outputs": [],
   "source": [
    "tot_cols_to_plot=[elem for elem in higgsboson.columns.tolist() if elem not in (\"EventId\", \"Label\")] \n",
    "\n",
    "for i in range(len(tot_cols_to_plot)):\n",
    "    print(\"Histogram plot of \" + tot_cols_to_plot[i])\n",
    "    figure = plt.figure(figsize=(12,6))\n",
    "    plt.hist(higgsboson[tot_cols_to_plot[0]], stacked = True, bins = 10, color = ['orange'])\n",
    "    plt.ylabel('Frequency')\n",
    "    plt.show()"
   ]
  },
  {
   "cell_type": "markdown",
   "id": "1ba547a7",
   "metadata": {},
   "source": [
    "# Histogram Plot of  Higgs Boson Data Features considering the Class Labels\n",
    "<br>\n",
    "Histogram Plots of each dimension in the Higgs Boson data corresponding to each class label, viz. \"s\" and \"b\"."
   ]
  },
  {
   "cell_type": "markdown",
   "id": "2981bf3e",
   "metadata": {},
   "source": [
    "##  Two Plots For Each Feature (Each Plot with One Class Label)"
   ]
  },
  {
   "cell_type": "code",
   "execution_count": null,
   "id": "aa290b33",
   "metadata": {},
   "outputs": [],
   "source": [
    "for col in range(len(tot_cols_to_plot)):\n",
    "    for i in range(len(unq_labels)):\n",
    "        plt.subplots(figsize=(15, 5))\n",
    "        plt.subplot(1, 2, 1)\n",
    "        subset_higgs_boson_data =  higgsboson[higgsboson['Label'] == unq_labels[i]]\n",
    "        print(\"Histogram plots of features in subset Higgs Boson Data with label - \" + subset_higgs_boson_data['Label'].unique()[0])\n",
    "        print(\"Histogram plot of \" + tot_cols_to_plot[col])\n",
    "        plt.hist(subset_higgs_boson_data[tot_cols_to_plot[col]], \n",
    "                 stacked = True, \n",
    "                 bins = 10,\n",
    "                 color = ['blue'])\n",
    "        plt.ylabel('Frequency')\n",
    "        plt.show()"
   ]
  },
  {
   "cell_type": "markdown",
   "id": "7ca441d6",
   "metadata": {},
   "source": [
    "##  One Plots For Each Feature (Each Plot with Both Class Labels)"
   ]
  },
  {
   "cell_type": "code",
   "execution_count": null,
   "id": "c1841f0e",
   "metadata": {},
   "outputs": [],
   "source": [
    "unq_labels= higgsboson.Label.unique()\n",
    "\n",
    "for col in range(len(tot_cols_to_plot)):\n",
    "    higgs_boson_grpby_lbls = higgsboson.groupby('Label', as_index = False, level = None, axis = 0)\n",
    "    print(\"Histogram plots of features in subset of Higgs Boson Data with labels {} and {}\".format(unq_labels[0], unq_labels[1])) \n",
    "    print(\"Histogram plot of \" + tot_cols_to_plot[col])\n",
    "    fig, ax = plt.subplots(figsize=(15,5))\n",
    "    for key, val in higgs_boson_grpby_lbls:\n",
    "        \n",
    "        plt.hist(val[tot_cols_to_plot[col]],\n",
    "                     stacked = True, \n",
    "                     bins = 10,linewidth=2, linestyle=':',\n",
    "                     label=key)\n",
    "    ax.legend()\n",
    "    plt.show()\n"
   ]
  }
 ],
 "metadata": {
  "kernelspec": {
   "display_name": "Python 3 (ipykernel)",
   "language": "python",
   "name": "python3"
  },
  "language_info": {
   "codemirror_mode": {
    "name": "ipython",
    "version": 3
   },
   "file_extension": ".py",
   "mimetype": "text/x-python",
   "name": "python",
   "nbconvert_exporter": "python",
   "pygments_lexer": "ipython3",
   "version": "3.7.0"
  }
 },
 "nbformat": 4,
 "nbformat_minor": 5
}

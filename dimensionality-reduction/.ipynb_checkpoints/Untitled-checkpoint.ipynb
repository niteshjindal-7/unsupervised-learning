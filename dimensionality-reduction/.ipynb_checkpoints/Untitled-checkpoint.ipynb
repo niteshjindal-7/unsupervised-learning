{
 "cells": [
  {
   "cell_type": "markdown",
   "id": "7d29d001",
   "metadata": {},
   "source": [
    "# Multi Dimensional Scaling - \n",
    "\n",
    "We are provided with the pair-wise distance and we need to compute the map. \n",
    "Higgs Boson Dataset and it is not normally distrubuted.\n",
    "Higgs Boson Data has about 30 features. Let us plot all the features and visualize their distribution. \n",
    "\n",
    "We will examine the distribution of the features in the original space and in the log space (i.e. after taking log of each feature). \n",
    "we observe the Log-normal distribution. Log-normal distribution is a continuous probability distribution of a random variable whose logarithm is normally distributed.\n",
    "Bi modal distribution."
   ]
  }
 ],
 "metadata": {
  "kernelspec": {
   "display_name": "Python 3 (ipykernel)",
   "language": "python",
   "name": "python3"
  },
  "language_info": {
   "codemirror_mode": {
    "name": "ipython",
    "version": 3
   },
   "file_extension": ".py",
   "mimetype": "text/x-python",
   "name": "python",
   "nbconvert_exporter": "python",
   "pygments_lexer": "ipython3",
   "version": "3.7.0"
  }
 },
 "nbformat": 4,
 "nbformat_minor": 5
}
